{
 "cells": [
  {
   "metadata": {
    "ExecuteTime": {
     "end_time": "2025-03-03T20:44:53.685701Z",
     "start_time": "2025-03-03T20:44:53.682840Z"
    }
   },
   "cell_type": "code",
   "source": "import numpy as np",
   "id": "7467902c48622a31",
   "outputs": [],
   "execution_count": 6
  },
  {
   "metadata": {
    "ExecuteTime": {
     "end_time": "2025-03-03T20:44:53.698469Z",
     "start_time": "2025-03-03T20:44:53.692251Z"
    }
   },
   "cell_type": "code",
   "source": [
    "input_methods = ['MLW','LMSW','MMD','MMD_bug']\n",
    "\n",
    "dim_methods = ['Orig']\n",
    "\n",
    "datset = ['mnist']\n",
    "\n",
    "for dataset in datset:\n",
    "    for dim_method in dim_methods:\n",
    "        for input_method in input_methods:\n",
    "            pvals = np.load(f'{dataset}_{dim_method}_{input_method}.npy')\n",
    "            print(pvals)\n"
   ],
   "id": "2d1c38e211a93125",
   "outputs": [
    {
     "name": "stdout",
     "output_type": "stream",
     "text": [
      "[0.113 0.067]\n",
      "[0.086 0.068]\n",
      "[0.108      0.23800001]\n",
      "[0.74199998 0.68300003]\n"
     ]
    }
   ],
   "execution_count": 7
  },
  {
   "metadata": {
    "ExecuteTime": {
     "end_time": "2025-03-03T20:44:53.708121Z",
     "start_time": "2025-03-03T20:44:53.706501Z"
    }
   },
   "cell_type": "code",
   "source": "",
   "id": "3863a89db84a8fd1",
   "outputs": [],
   "execution_count": null
  }
 ],
 "metadata": {
  "kernelspec": {
   "display_name": "Python 3",
   "language": "python",
   "name": "python3"
  },
  "language_info": {
   "codemirror_mode": {
    "name": "ipython",
    "version": 2
   },
   "file_extension": ".py",
   "mimetype": "text/x-python",
   "name": "python",
   "nbconvert_exporter": "python",
   "pygments_lexer": "ipython2",
   "version": "2.7.6"
  }
 },
 "nbformat": 4,
 "nbformat_minor": 5
}
